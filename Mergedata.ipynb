{
 "cells": [
  {
   "cell_type": "markdown",
   "metadata": {},
   "source": [
    "# NYC Covid-19 Analysis"
   ]
  },
  {
   "cell_type": "markdown",
   "metadata": {},
   "source": [
    "Thanks to the NYC Department of Health and Mental Hygine, daily COVID-19 data on testings, areas being tested, age, sex, etc. have been made available for people to see. Toady, I will just be trying to look at some initial analysis on whats been happening throughout the New York Area. Show any trends throughout daily information as well as any hotspots in the area. "
   ]
  },
  {
   "cell_type": "markdown",
   "metadata": {},
   "source": [
    "## Data Sets Provided"
   ]
  },
  {
   "cell_type": "markdown",
   "metadata": {},
   "source": [
    "Daily updates are provided for the data at https://github.com/nychealth/coronavirus-data"
   ]
  },
  {
   "cell_type": "markdown",
   "metadata": {},
   "source": [
    "# Import "
   ]
  },
  {
   "cell_type": "code",
   "execution_count": 1,
   "metadata": {},
   "outputs": [],
   "source": [
    "import pandas as pd\n",
    "import numpy as np\n",
    "import matplotlib.pyplot as plt\n",
    "import seaborn as sns\n",
    "\n",
    "%matplotlib inline"
   ]
  },
  {
   "cell_type": "markdown",
   "metadata": {},
   "source": [
    "# Cleaning and Merging "
   ]
  },
  {
   "cell_type": "markdown",
   "metadata": {},
   "source": [
    "We first scrapped data on the NYC boroughs and all zipcodes within them from:\n",
    "https://www.health.ny.gov/statistics/cancer/registry/appendix/neighborhoods.htm \n",
    "\n",
    "Mannual cleaning in excel was peformed to list each zipcode with its borough."
   ]
  },
  {
   "cell_type": "code",
   "execution_count": 2,
   "metadata": {},
   "outputs": [],
   "source": [
    "bz = pd.read_csv('Bourgh_zipcodes.csv')"
   ]
  },
  {
   "cell_type": "code",
   "execution_count": 3,
   "metadata": {},
   "outputs": [
    {
     "data": {
      "text/html": [
       "<div>\n",
       "<style scoped>\n",
       "    .dataframe tbody tr th:only-of-type {\n",
       "        vertical-align: middle;\n",
       "    }\n",
       "\n",
       "    .dataframe tbody tr th {\n",
       "        vertical-align: top;\n",
       "    }\n",
       "\n",
       "    .dataframe thead th {\n",
       "        text-align: right;\n",
       "    }\n",
       "</style>\n",
       "<table border=\"1\" class=\"dataframe\">\n",
       "  <thead>\n",
       "    <tr style=\"text-align: right;\">\n",
       "      <th></th>\n",
       "      <th>Borough</th>\n",
       "      <th>ZIP Codes</th>\n",
       "    </tr>\n",
       "  </thead>\n",
       "  <tbody>\n",
       "    <tr>\n",
       "      <th>0</th>\n",
       "      <td>Bronx</td>\n",
       "      <td>10453, 10457, 10460, 10458, 10467, 10468, 1045...</td>\n",
       "    </tr>\n",
       "    <tr>\n",
       "      <th>1</th>\n",
       "      <td>Brooklyn</td>\n",
       "      <td>11212, 11213, 11216, 11233, 11238, 11209, 1121...</td>\n",
       "    </tr>\n",
       "    <tr>\n",
       "      <th>2</th>\n",
       "      <td>Manhattan</td>\n",
       "      <td>10026, 10027, 10030, 10037, 10039, 10001, 1001...</td>\n",
       "    </tr>\n",
       "    <tr>\n",
       "      <th>3</th>\n",
       "      <td>Queens</td>\n",
       "      <td>11361, 11362, 11363, 11364, 11354, 11355, 1135...</td>\n",
       "    </tr>\n",
       "    <tr>\n",
       "      <th>4</th>\n",
       "      <td>Staten Island</td>\n",
       "      <td>10302, 10303, 10310, 10306, 10307, 10308, 1030...</td>\n",
       "    </tr>\n",
       "  </tbody>\n",
       "</table>\n",
       "</div>"
      ],
      "text/plain": [
       "         Borough                                          ZIP Codes\n",
       "0          Bronx  10453, 10457, 10460, 10458, 10467, 10468, 1045...\n",
       "1       Brooklyn  11212, 11213, 11216, 11233, 11238, 11209, 1121...\n",
       "2      Manhattan  10026, 10027, 10030, 10037, 10039, 10001, 1001...\n",
       "3         Queens  11361, 11362, 11363, 11364, 11354, 11355, 1135...\n",
       "4  Staten Island  10302, 10303, 10310, 10306, 10307, 10308, 1030..."
      ]
     },
     "execution_count": 3,
     "metadata": {},
     "output_type": "execute_result"
    }
   ],
   "source": [
    "bz.head()"
   ]
  },
  {
   "cell_type": "code",
   "execution_count": 4,
   "metadata": {},
   "outputs": [],
   "source": [
    "zips = [bz['ZIP Codes'][i].strip().split(',') for i in range(0,5)]"
   ]
  },
  {
   "cell_type": "code",
   "execution_count": 5,
   "metadata": {},
   "outputs": [],
   "source": [
    "bronx = pd.DataFrame({'BOROUGH': 'Bronx', 'zip_codes':zips[0]})"
   ]
  },
  {
   "cell_type": "code",
   "execution_count": 6,
   "metadata": {},
   "outputs": [],
   "source": [
    "brook = pd.DataFrame({'BOROUGH': 'Brooklyn', 'zip_codes':zips[1]})"
   ]
  },
  {
   "cell_type": "code",
   "execution_count": 7,
   "metadata": {},
   "outputs": [],
   "source": [
    "manhattan = pd.DataFrame({'BOROUGH': 'Manhattan', 'zip_codes':zips[2]})"
   ]
  },
  {
   "cell_type": "code",
   "execution_count": 8,
   "metadata": {},
   "outputs": [],
   "source": [
    "queens = pd.DataFrame({'BOROUGH': 'Queens', 'zip_codes':zips[3]})"
   ]
  },
  {
   "cell_type": "code",
   "execution_count": 9,
   "metadata": {},
   "outputs": [],
   "source": [
    "si = pd.DataFrame({'BOROUGH': 'Staten Island', 'zip_codes':zips[4]})"
   ]
  },
  {
   "cell_type": "code",
   "execution_count": 10,
   "metadata": {},
   "outputs": [],
   "source": [
    "borough_zips = pd.concat([bronx, brook, manhattan, queens, si])"
   ]
  },
  {
   "cell_type": "code",
   "execution_count": 11,
   "metadata": {},
   "outputs": [],
   "source": [
    "borough_zips['zip_codes'] = borough_zips['zip_codes'].astype('int64')"
   ]
  },
  {
   "cell_type": "markdown",
   "metadata": {},
   "source": [
    "Since information is made daily for us, these functions created below will update our csv's so that we will have the latest data made availble for our visualizations. "
   ]
  },
  {
   "cell_type": "code",
   "execution_count": 12,
   "metadata": {},
   "outputs": [],
   "source": [
    "old_date = '4:8'\n",
    "new_date = '4:9'"
   ]
  },
  {
   "cell_type": "code",
   "execution_count": 13,
   "metadata": {},
   "outputs": [],
   "source": [
    "#Function for updating positive test by Borough and Zipcode\n",
    "def update_testing (new_date):\n",
    "    test_zip = pd.read_csv(f'coronavirus-data {new_date}/tests-by-zcta.csv')\n",
    "    test_zip.drop(0, inplace = True)\n",
    "    test_zip['MODZCTA'] = test_zip['MODZCTA'].astype('int64')\n",
    "    test_zip.rename(columns = {'MODZCTA': 'zip_codes'}, inplace = True)\n",
    "    testing = pd.merge(left = borough_zips,\n",
    "        right = test_zip,\n",
    "        how = 'inner',\n",
    "        on = 'zip_codes')\n",
    "    boro = pd.read_csv(f'coronavirus-data {new_date}/boro.csv')\n",
    "    boro.drop(5,inplace = True)\n",
    "    boro.loc[:, 'BOROUGH_GROUP'] = testing['BOROUGH'].unique()\n",
    "    boro.rename(columns = {'BOROUGH_GROUP': 'BOROUGH'}, inplace = True)\n",
    "    testing_borough = pd.merge(left = testing,\n",
    "        right = boro,\n",
    "        how = 'inner',\n",
    "        on = 'BOROUGH')\n",
    "    return testing_borough.to_csv('master_tests.csv',index = False)"
   ]
  },
  {
   "cell_type": "code",
   "execution_count": 14,
   "metadata": {},
   "outputs": [],
   "source": [
    "update_testing(new_date)"
   ]
  },
  {
   "cell_type": "code",
   "execution_count": 15,
   "metadata": {},
   "outputs": [],
   "source": [
    "#Function for updating Summary\n",
    "def update_summary (old_date,new_date): #remember in 4:2 format for april 2nd()\n",
    "    old_sum = pd.read_csv(f'master_summary_{old_date}.csv')#.T #- remove # before t if needed to update\n",
    "    #incase file is overwritten, rewrite using the following code \n",
    "    #old_sum.columns = old_sum.iloc[0]\n",
    "    #old_sum.drop('Cases:', inplace = True)\n",
    "    #old_sum['Cases'] = old_sum.index\n",
    "    #old_sum['As of:'] = pd.to_datetime(old_sum['As of:'])\n",
    "\n",
    "    new_sum = pd.read_csv(f'coronavirus-data {new_date}/summary.csv').T\n",
    "    new_sum.columns = new_sum.iloc[0]\n",
    "    new_sum.drop('Cases:', inplace = True)\n",
    "    new_sum['Cases'] = new_sum.index\n",
    "    new_sum['As of:'] = pd.to_datetime(new_sum['As of:'])\n",
    "    \n",
    "    merged = pd.concat([old_sum,new_sum])\n",
    "    merged.reset_index(inplace = True)\n",
    "    merged.drop(columns = 'index', inplace = True)\n",
    "    merged.to_csv(f'master_summary_{new_date}.csv', index = False)\n",
    "     \n",
    "    return merged.head()\n"
   ]
  },
  {
   "cell_type": "code",
   "execution_count": 16,
   "metadata": {},
   "outputs": [
    {
     "data": {
      "text/html": [
       "<div>\n",
       "<style scoped>\n",
       "    .dataframe tbody tr th:only-of-type {\n",
       "        vertical-align: middle;\n",
       "    }\n",
       "\n",
       "    .dataframe tbody tr th {\n",
       "        vertical-align: top;\n",
       "    }\n",
       "\n",
       "    .dataframe thead th {\n",
       "        text-align: right;\n",
       "    }\n",
       "</style>\n",
       "<table border=\"1\" class=\"dataframe\">\n",
       "  <thead>\n",
       "    <tr style=\"text-align: right;\">\n",
       "      <th>Cases:</th>\n",
       "      <th>Total hospitalized*:</th>\n",
       "      <th>Deaths:</th>\n",
       "      <th>As of:</th>\n",
       "      <th>Cases</th>\n",
       "    </tr>\n",
       "  </thead>\n",
       "  <tbody>\n",
       "    <tr>\n",
       "      <th>0</th>\n",
       "      <td>10590</td>\n",
       "      <td>1562</td>\n",
       "      <td>2020-04-02 17:00:00</td>\n",
       "      <td>49707</td>\n",
       "    </tr>\n",
       "    <tr>\n",
       "      <th>1</th>\n",
       "      <td>14205</td>\n",
       "      <td>2472</td>\n",
       "      <td>2020-04-05 17:00:00</td>\n",
       "      <td>64955</td>\n",
       "    </tr>\n",
       "    <tr>\n",
       "      <th>2</th>\n",
       "      <td>15333</td>\n",
       "      <td>2738</td>\n",
       "      <td>2020-04-06 17:00:00</td>\n",
       "      <td>68776</td>\n",
       "    </tr>\n",
       "    <tr>\n",
       "      <th>3</th>\n",
       "      <td>4712</td>\n",
       "      <td>364</td>\n",
       "      <td>2020-03-26 17:00:00</td>\n",
       "      <td>23112</td>\n",
       "    </tr>\n",
       "    <tr>\n",
       "      <th>4</th>\n",
       "      <td>5039</td>\n",
       "      <td>450</td>\n",
       "      <td>2020-03-27 17:00:00</td>\n",
       "      <td>26697</td>\n",
       "    </tr>\n",
       "  </tbody>\n",
       "</table>\n",
       "</div>"
      ],
      "text/plain": [
       "Cases: Total hospitalized*: Deaths:               As of:  Cases\n",
       "0                     10590    1562  2020-04-02 17:00:00  49707\n",
       "1                     14205    2472  2020-04-05 17:00:00  64955\n",
       "2                     15333    2738  2020-04-06 17:00:00  68776\n",
       "3                      4712     364  2020-03-26 17:00:00  23112\n",
       "4                      5039     450  2020-03-27 17:00:00  26697"
      ]
     },
     "execution_count": 16,
     "metadata": {},
     "output_type": "execute_result"
    }
   ],
   "source": [
    "update_summary(old_date,new_date)"
   ]
  },
  {
   "cell_type": "code",
   "execution_count": 17,
   "metadata": {},
   "outputs": [
    {
     "data": {
      "text/html": [
       "<div>\n",
       "<style scoped>\n",
       "    .dataframe tbody tr th:only-of-type {\n",
       "        vertical-align: middle;\n",
       "    }\n",
       "\n",
       "    .dataframe tbody tr th {\n",
       "        vertical-align: top;\n",
       "    }\n",
       "\n",
       "    .dataframe thead th {\n",
       "        text-align: right;\n",
       "    }\n",
       "</style>\n",
       "<table border=\"1\" class=\"dataframe\">\n",
       "  <thead>\n",
       "    <tr style=\"text-align: right;\">\n",
       "      <th></th>\n",
       "      <th>Total hospitalized*:</th>\n",
       "      <th>Deaths:</th>\n",
       "      <th>Cases</th>\n",
       "    </tr>\n",
       "    <tr>\n",
       "      <th>dates</th>\n",
       "      <th></th>\n",
       "      <th></th>\n",
       "      <th></th>\n",
       "    </tr>\n",
       "  </thead>\n",
       "  <tbody>\n",
       "    <tr>\n",
       "      <th>2020-03-26</th>\n",
       "      <td>4712</td>\n",
       "      <td>364</td>\n",
       "      <td>23112</td>\n",
       "    </tr>\n",
       "    <tr>\n",
       "      <th>2020-03-27</th>\n",
       "      <td>5039</td>\n",
       "      <td>450</td>\n",
       "      <td>26697</td>\n",
       "    </tr>\n",
       "    <tr>\n",
       "      <th>2020-03-30</th>\n",
       "      <td>7741</td>\n",
       "      <td>914</td>\n",
       "      <td>38087</td>\n",
       "    </tr>\n",
       "    <tr>\n",
       "      <th>2020-03-31</th>\n",
       "      <td>8549</td>\n",
       "      <td>1096</td>\n",
       "      <td>41771</td>\n",
       "    </tr>\n",
       "    <tr>\n",
       "      <th>2020-04-01</th>\n",
       "      <td>9775</td>\n",
       "      <td>1374</td>\n",
       "      <td>45707</td>\n",
       "    </tr>\n",
       "  </tbody>\n",
       "</table>\n",
       "</div>"
      ],
      "text/plain": [
       "            Total hospitalized*:  Deaths:  Cases\n",
       "dates                                           \n",
       "2020-03-26                  4712      364  23112\n",
       "2020-03-27                  5039      450  26697\n",
       "2020-03-30                  7741      914  38087\n",
       "2020-03-31                  8549     1096  41771\n",
       "2020-04-01                  9775     1374  45707"
      ]
     },
     "execution_count": 17,
     "metadata": {},
     "output_type": "execute_result"
    }
   ],
   "source": [
    "summary = pd.read_csv(f'master_summary_{new_date}.csv')\n",
    "date = [i.split(' ') for i in summary['As of:']]\n",
    "summary['dates'] = [date[i][0] for i in range(len(date))]\n",
    "del summary['As of:']\n",
    "summary.set_index(['dates'], inplace = True)\n",
    "summary = summary.sort_values(by = 'dates')\n",
    "summary.head()"
   ]
  },
  {
   "cell_type": "code",
   "execution_count": 42,
   "metadata": {},
   "outputs": [],
   "source": [
    "case = pd.read_csv(f'coronavirus-data {new_date}/case-hosp-death.csv')\n",
    "case['DATE_OF_INTEREST'] = pd.to_datetime(case['DATE_OF_INTEREST'])\n",
    "case.set_index(['DATE_OF_INTEREST'], inplace = True)"
   ]
  },
  {
   "cell_type": "code",
   "execution_count": 43,
   "metadata": {},
   "outputs": [
    {
     "data": {
      "text/html": [
       "<div>\n",
       "<style scoped>\n",
       "    .dataframe tbody tr th:only-of-type {\n",
       "        vertical-align: middle;\n",
       "    }\n",
       "\n",
       "    .dataframe tbody tr th {\n",
       "        vertical-align: top;\n",
       "    }\n",
       "\n",
       "    .dataframe thead th {\n",
       "        text-align: right;\n",
       "    }\n",
       "</style>\n",
       "<table border=\"1\" class=\"dataframe\">\n",
       "  <thead>\n",
       "    <tr style=\"text-align: right;\">\n",
       "      <th></th>\n",
       "      <th>NEW_COVID_CASE_COUNT</th>\n",
       "      <th>HOSPITALIZED_CASE_COUNT</th>\n",
       "      <th>DEATH_COUNT</th>\n",
       "    </tr>\n",
       "    <tr>\n",
       "      <th>DATE_OF_INTEREST</th>\n",
       "      <th></th>\n",
       "      <th></th>\n",
       "      <th></th>\n",
       "    </tr>\n",
       "  </thead>\n",
       "  <tbody>\n",
       "    <tr>\n",
       "      <th>2020-03-02</th>\n",
       "      <td>1</td>\n",
       "      <td>11.0</td>\n",
       "      <td>NaN</td>\n",
       "    </tr>\n",
       "    <tr>\n",
       "      <th>2020-03-03</th>\n",
       "      <td>3</td>\n",
       "      <td>8.0</td>\n",
       "      <td>NaN</td>\n",
       "    </tr>\n",
       "    <tr>\n",
       "      <th>2020-03-04</th>\n",
       "      <td>10</td>\n",
       "      <td>9.0</td>\n",
       "      <td>NaN</td>\n",
       "    </tr>\n",
       "    <tr>\n",
       "      <th>2020-03-05</th>\n",
       "      <td>2</td>\n",
       "      <td>13.0</td>\n",
       "      <td>NaN</td>\n",
       "    </tr>\n",
       "    <tr>\n",
       "      <th>2020-03-06</th>\n",
       "      <td>8</td>\n",
       "      <td>10.0</td>\n",
       "      <td>NaN</td>\n",
       "    </tr>\n",
       "  </tbody>\n",
       "</table>\n",
       "</div>"
      ],
      "text/plain": [
       "                  NEW_COVID_CASE_COUNT  HOSPITALIZED_CASE_COUNT  DEATH_COUNT\n",
       "DATE_OF_INTEREST                                                            \n",
       "2020-03-02                           1                     11.0          NaN\n",
       "2020-03-03                           3                      8.0          NaN\n",
       "2020-03-04                          10                      9.0          NaN\n",
       "2020-03-05                           2                     13.0          NaN\n",
       "2020-03-06                           8                     10.0          NaN"
      ]
     },
     "execution_count": 43,
     "metadata": {},
     "output_type": "execute_result"
    }
   ],
   "source": [
    "case.head()"
   ]
  },
  {
   "cell_type": "code",
   "execution_count": 44,
   "metadata": {},
   "outputs": [],
   "source": [
    "case['NCCC_diff1'] = case['NEW_COVID_CASE_COUNT'].diff(1)"
   ]
  },
  {
   "cell_type": "code",
   "execution_count": 45,
   "metadata": {},
   "outputs": [
    {
     "data": {
      "text/html": [
       "<div>\n",
       "<style scoped>\n",
       "    .dataframe tbody tr th:only-of-type {\n",
       "        vertical-align: middle;\n",
       "    }\n",
       "\n",
       "    .dataframe tbody tr th {\n",
       "        vertical-align: top;\n",
       "    }\n",
       "\n",
       "    .dataframe thead th {\n",
       "        text-align: right;\n",
       "    }\n",
       "</style>\n",
       "<table border=\"1\" class=\"dataframe\">\n",
       "  <thead>\n",
       "    <tr style=\"text-align: right;\">\n",
       "      <th></th>\n",
       "      <th>NEW_COVID_CASE_COUNT</th>\n",
       "      <th>HOSPITALIZED_CASE_COUNT</th>\n",
       "      <th>DEATH_COUNT</th>\n",
       "      <th>NCCC_diff1</th>\n",
       "    </tr>\n",
       "    <tr>\n",
       "      <th>DATE_OF_INTEREST</th>\n",
       "      <th></th>\n",
       "      <th></th>\n",
       "      <th></th>\n",
       "      <th></th>\n",
       "    </tr>\n",
       "  </thead>\n",
       "  <tbody>\n",
       "    <tr>\n",
       "      <th>2020-03-02</th>\n",
       "      <td>1</td>\n",
       "      <td>11.0</td>\n",
       "      <td>NaN</td>\n",
       "      <td>NaN</td>\n",
       "    </tr>\n",
       "    <tr>\n",
       "      <th>2020-03-03</th>\n",
       "      <td>3</td>\n",
       "      <td>8.0</td>\n",
       "      <td>NaN</td>\n",
       "      <td>2.0</td>\n",
       "    </tr>\n",
       "    <tr>\n",
       "      <th>2020-03-04</th>\n",
       "      <td>10</td>\n",
       "      <td>9.0</td>\n",
       "      <td>NaN</td>\n",
       "      <td>7.0</td>\n",
       "    </tr>\n",
       "    <tr>\n",
       "      <th>2020-03-05</th>\n",
       "      <td>2</td>\n",
       "      <td>13.0</td>\n",
       "      <td>NaN</td>\n",
       "      <td>-8.0</td>\n",
       "    </tr>\n",
       "    <tr>\n",
       "      <th>2020-03-06</th>\n",
       "      <td>8</td>\n",
       "      <td>10.0</td>\n",
       "      <td>NaN</td>\n",
       "      <td>6.0</td>\n",
       "    </tr>\n",
       "  </tbody>\n",
       "</table>\n",
       "</div>"
      ],
      "text/plain": [
       "                  NEW_COVID_CASE_COUNT  HOSPITALIZED_CASE_COUNT  DEATH_COUNT  \\\n",
       "DATE_OF_INTEREST                                                               \n",
       "2020-03-02                           1                     11.0          NaN   \n",
       "2020-03-03                           3                      8.0          NaN   \n",
       "2020-03-04                          10                      9.0          NaN   \n",
       "2020-03-05                           2                     13.0          NaN   \n",
       "2020-03-06                           8                     10.0          NaN   \n",
       "\n",
       "                  NCCC_diff1  \n",
       "DATE_OF_INTEREST              \n",
       "2020-03-02               NaN  \n",
       "2020-03-03               2.0  \n",
       "2020-03-04               7.0  \n",
       "2020-03-05              -8.0  \n",
       "2020-03-06               6.0  "
      ]
     },
     "execution_count": 45,
     "metadata": {},
     "output_type": "execute_result"
    }
   ],
   "source": [
    "case.head()"
   ]
  },
  {
   "cell_type": "code",
   "execution_count": 46,
   "metadata": {},
   "outputs": [],
   "source": [
    "case.to_csv(f'coronavirus-data {new_date}/case-hosp-death.csv')"
   ]
  },
  {
   "cell_type": "code",
   "execution_count": 20,
   "metadata": {},
   "outputs": [],
   "source": [
    "def update_age (old_date,new_date):\n",
    "    old_age = pd.read_csv(f'master_age_{old_date}.csv')\n",
    "    #old_age['date'] = f'{old_date[0]}/{old_date[2]}/2020'\n",
    "    #old_age['date'] = pd.to_datetime(old_age['date'])\n",
    "    \n",
    "    new_age = pd.read_csv(f'coronavirus-data {new_date}/by-age.csv')\n",
    "    new_age['date'] = f'{new_date[0]}/{new_date[2]}/2020'\n",
    "    new_age['date'] = pd.to_datetime(new_age['date'])\n",
    "    \n",
    "    merged = pd.concat([old_age,new_age])\n",
    "    merged.reset_index(inplace = True)\n",
    "    merged.drop(columns = 'index', inplace = True)\n",
    "    merged['date'] = pd.to_datetime(merged['date'])\n",
    "    merged.to_csv(f'master_age_{new_date}.csv', index = False)\n",
    "    \n",
    "    return merged.head()"
   ]
  },
  {
   "cell_type": "code",
   "execution_count": 21,
   "metadata": {},
   "outputs": [
    {
     "data": {
      "text/html": [
       "<div>\n",
       "<style scoped>\n",
       "    .dataframe tbody tr th:only-of-type {\n",
       "        vertical-align: middle;\n",
       "    }\n",
       "\n",
       "    .dataframe tbody tr th {\n",
       "        vertical-align: top;\n",
       "    }\n",
       "\n",
       "    .dataframe thead th {\n",
       "        text-align: right;\n",
       "    }\n",
       "</style>\n",
       "<table border=\"1\" class=\"dataframe\">\n",
       "  <thead>\n",
       "    <tr style=\"text-align: right;\">\n",
       "      <th></th>\n",
       "      <th>AGE_GROUP</th>\n",
       "      <th>COVID_CASE_RATE</th>\n",
       "      <th>HOSPITALIZED_CASE_RATE</th>\n",
       "      <th>DEATH_RATE</th>\n",
       "      <th>date</th>\n",
       "    </tr>\n",
       "  </thead>\n",
       "  <tbody>\n",
       "    <tr>\n",
       "      <th>0</th>\n",
       "      <td>0-17 years</td>\n",
       "      <td>51.02</td>\n",
       "      <td>5.10</td>\n",
       "      <td>0.06</td>\n",
       "      <td>2020-04-02</td>\n",
       "    </tr>\n",
       "    <tr>\n",
       "      <th>1</th>\n",
       "      <td>18-44 years</td>\n",
       "      <td>602.82</td>\n",
       "      <td>53.92</td>\n",
       "      <td>2.67</td>\n",
       "      <td>2020-04-02</td>\n",
       "    </tr>\n",
       "    <tr>\n",
       "      <th>2</th>\n",
       "      <td>45-64 years</td>\n",
       "      <td>851.00</td>\n",
       "      <td>192.70</td>\n",
       "      <td>18.58</td>\n",
       "      <td>2020-04-02</td>\n",
       "    </tr>\n",
       "    <tr>\n",
       "      <th>3</th>\n",
       "      <td>65-74 years</td>\n",
       "      <td>871.81</td>\n",
       "      <td>328.99</td>\n",
       "      <td>53.78</td>\n",
       "      <td>2020-04-02</td>\n",
       "    </tr>\n",
       "    <tr>\n",
       "      <th>4</th>\n",
       "      <td>75 and older years</td>\n",
       "      <td>879.56</td>\n",
       "      <td>442.98</td>\n",
       "      <td>130.35</td>\n",
       "      <td>2020-04-02</td>\n",
       "    </tr>\n",
       "  </tbody>\n",
       "</table>\n",
       "</div>"
      ],
      "text/plain": [
       "            AGE_GROUP  COVID_CASE_RATE  HOSPITALIZED_CASE_RATE  DEATH_RATE  \\\n",
       "0          0-17 years            51.02                    5.10        0.06   \n",
       "1         18-44 years           602.82                   53.92        2.67   \n",
       "2         45-64 years           851.00                  192.70       18.58   \n",
       "3         65-74 years           871.81                  328.99       53.78   \n",
       "4  75 and older years           879.56                  442.98      130.35   \n",
       "\n",
       "        date  \n",
       "0 2020-04-02  \n",
       "1 2020-04-02  \n",
       "2 2020-04-02  \n",
       "3 2020-04-02  \n",
       "4 2020-04-02  "
      ]
     },
     "execution_count": 21,
     "metadata": {},
     "output_type": "execute_result"
    }
   ],
   "source": [
    "update_age(old_date, new_date)"
   ]
  },
  {
   "cell_type": "code",
   "execution_count": 22,
   "metadata": {},
   "outputs": [
    {
     "data": {
      "text/html": [
       "<div>\n",
       "<style scoped>\n",
       "    .dataframe tbody tr th:only-of-type {\n",
       "        vertical-align: middle;\n",
       "    }\n",
       "\n",
       "    .dataframe tbody tr th {\n",
       "        vertical-align: top;\n",
       "    }\n",
       "\n",
       "    .dataframe thead th {\n",
       "        text-align: right;\n",
       "    }\n",
       "</style>\n",
       "<table border=\"1\" class=\"dataframe\">\n",
       "  <thead>\n",
       "    <tr style=\"text-align: right;\">\n",
       "      <th></th>\n",
       "      <th>AGE_GROUP</th>\n",
       "      <th>COVID_CASE_RATE</th>\n",
       "      <th>HOSPITALIZED_CASE_RATE</th>\n",
       "      <th>DEATH_RATE</th>\n",
       "    </tr>\n",
       "    <tr>\n",
       "      <th>date</th>\n",
       "      <th></th>\n",
       "      <th></th>\n",
       "      <th></th>\n",
       "      <th></th>\n",
       "    </tr>\n",
       "  </thead>\n",
       "  <tbody>\n",
       "    <tr>\n",
       "      <th>2020-03-26</th>\n",
       "      <td>Citywide total</td>\n",
       "      <td>275.18</td>\n",
       "      <td>56.20</td>\n",
       "      <td>4.35</td>\n",
       "    </tr>\n",
       "    <tr>\n",
       "      <th>2020-03-26</th>\n",
       "      <td>75 and older years</td>\n",
       "      <td>353.76</td>\n",
       "      <td>188.13</td>\n",
       "      <td>33.09</td>\n",
       "    </tr>\n",
       "    <tr>\n",
       "      <th>2020-03-26</th>\n",
       "      <td>65-74 years</td>\n",
       "      <td>375.76</td>\n",
       "      <td>135.31</td>\n",
       "      <td>13.02</td>\n",
       "    </tr>\n",
       "    <tr>\n",
       "      <th>2020-03-26</th>\n",
       "      <td>45-64 years</td>\n",
       "      <td>382.72</td>\n",
       "      <td>85.07</td>\n",
       "      <td>3.75</td>\n",
       "    </tr>\n",
       "    <tr>\n",
       "      <th>2020-03-26</th>\n",
       "      <td>18-44 years</td>\n",
       "      <td>301.07</td>\n",
       "      <td>28.19</td>\n",
       "      <td>0.47</td>\n",
       "    </tr>\n",
       "  </tbody>\n",
       "</table>\n",
       "</div>"
      ],
      "text/plain": [
       "                     AGE_GROUP  COVID_CASE_RATE  HOSPITALIZED_CASE_RATE  \\\n",
       "date                                                                      \n",
       "2020-03-26      Citywide total           275.18                   56.20   \n",
       "2020-03-26  75 and older years           353.76                  188.13   \n",
       "2020-03-26         65-74 years           375.76                  135.31   \n",
       "2020-03-26         45-64 years           382.72                   85.07   \n",
       "2020-03-26         18-44 years           301.07                   28.19   \n",
       "\n",
       "            DEATH_RATE  \n",
       "date                    \n",
       "2020-03-26        4.35  \n",
       "2020-03-26       33.09  \n",
       "2020-03-26       13.02  \n",
       "2020-03-26        3.75  \n",
       "2020-03-26        0.47  "
      ]
     },
     "execution_count": 22,
     "metadata": {},
     "output_type": "execute_result"
    }
   ],
   "source": [
    "age = pd.read_csv(f'master_age_{new_date}.csv')\n",
    "age['date'] = pd.to_datetime(age['date'])\n",
    "age.set_index(['date'], inplace = True)\n",
    "age = age.sort_values(by = 'date')\n",
    "age.head()"
   ]
  },
  {
   "cell_type": "code",
   "execution_count": 23,
   "metadata": {},
   "outputs": [],
   "source": [
    "def update_sex (old_date,new_date):\n",
    "    old_sex = pd.read_csv(f'master_sex_{old_date}.csv')\n",
    "    #old_sex['date'] = f'{old_date[0]}/{old_date[2]}/2020'\n",
    "    #old_sex['date'] = pd.to_datetime(old_sex['date'])\n",
    "    \n",
    "    new_sex = pd.read_csv(f'coronavirus-data {new_date}/by-sex.csv')\n",
    "    new_sex['date'] = f'{new_date[0]}/{new_date[2]}/2020'\n",
    "    new_sex['date'] = pd.to_datetime(new_sex['date'])\n",
    "    \n",
    "    merged = pd.concat([old_sex, new_sex])\n",
    "    merged.reset_index(inplace = True)\n",
    "    merged.drop(columns = 'index', inplace = True)\n",
    "    merged['date'] = pd.to_datetime(merged['date'])\n",
    "    merged.to_csv(f'master_sex_{new_date}.csv', index = False)\n",
    "    \n",
    "    return merged.head()"
   ]
  },
  {
   "cell_type": "code",
   "execution_count": 24,
   "metadata": {},
   "outputs": [
    {
     "data": {
      "text/html": [
       "<div>\n",
       "<style scoped>\n",
       "    .dataframe tbody tr th:only-of-type {\n",
       "        vertical-align: middle;\n",
       "    }\n",
       "\n",
       "    .dataframe tbody tr th {\n",
       "        vertical-align: top;\n",
       "    }\n",
       "\n",
       "    .dataframe thead th {\n",
       "        text-align: right;\n",
       "    }\n",
       "</style>\n",
       "<table border=\"1\" class=\"dataframe\">\n",
       "  <thead>\n",
       "    <tr style=\"text-align: right;\">\n",
       "      <th></th>\n",
       "      <th>SEX_GROUP</th>\n",
       "      <th>COVID_CASE_RATE</th>\n",
       "      <th>HOSPITALIZED_CASE_RATE</th>\n",
       "      <th>DEATH_RATE</th>\n",
       "      <th>date</th>\n",
       "    </tr>\n",
       "  </thead>\n",
       "  <tbody>\n",
       "    <tr>\n",
       "      <th>0</th>\n",
       "      <td>Female</td>\n",
       "      <td>511.86</td>\n",
       "      <td>97.71</td>\n",
       "      <td>13.41</td>\n",
       "      <td>2020-04-02</td>\n",
       "    </tr>\n",
       "    <tr>\n",
       "      <th>1</th>\n",
       "      <td>Male</td>\n",
       "      <td>677.86</td>\n",
       "      <td>157.14</td>\n",
       "      <td>24.24</td>\n",
       "      <td>2020-04-02</td>\n",
       "    </tr>\n",
       "    <tr>\n",
       "      <th>2</th>\n",
       "      <td>Citywide total</td>\n",
       "      <td>591.84</td>\n",
       "      <td>126.09</td>\n",
       "      <td>18.60</td>\n",
       "      <td>2020-04-02</td>\n",
       "    </tr>\n",
       "    <tr>\n",
       "      <th>3</th>\n",
       "      <td>Female</td>\n",
       "      <td>673.99</td>\n",
       "      <td>130.08</td>\n",
       "      <td>20.94</td>\n",
       "      <td>2020-04-05</td>\n",
       "    </tr>\n",
       "    <tr>\n",
       "      <th>4</th>\n",
       "      <td>Male</td>\n",
       "      <td>880.09</td>\n",
       "      <td>211.86</td>\n",
       "      <td>38.69</td>\n",
       "      <td>2020-04-05</td>\n",
       "    </tr>\n",
       "  </tbody>\n",
       "</table>\n",
       "</div>"
      ],
      "text/plain": [
       "        SEX_GROUP  COVID_CASE_RATE  HOSPITALIZED_CASE_RATE  DEATH_RATE  \\\n",
       "0          Female           511.86                   97.71       13.41   \n",
       "1            Male           677.86                  157.14       24.24   \n",
       "2  Citywide total           591.84                  126.09       18.60   \n",
       "3          Female           673.99                  130.08       20.94   \n",
       "4            Male           880.09                  211.86       38.69   \n",
       "\n",
       "        date  \n",
       "0 2020-04-02  \n",
       "1 2020-04-02  \n",
       "2 2020-04-02  \n",
       "3 2020-04-05  \n",
       "4 2020-04-05  "
      ]
     },
     "execution_count": 24,
     "metadata": {},
     "output_type": "execute_result"
    }
   ],
   "source": [
    "update_sex(old_date, new_date)"
   ]
  },
  {
   "cell_type": "code",
   "execution_count": 25,
   "metadata": {},
   "outputs": [
    {
     "data": {
      "text/html": [
       "<div>\n",
       "<style scoped>\n",
       "    .dataframe tbody tr th:only-of-type {\n",
       "        vertical-align: middle;\n",
       "    }\n",
       "\n",
       "    .dataframe tbody tr th {\n",
       "        vertical-align: top;\n",
       "    }\n",
       "\n",
       "    .dataframe thead th {\n",
       "        text-align: right;\n",
       "    }\n",
       "</style>\n",
       "<table border=\"1\" class=\"dataframe\">\n",
       "  <thead>\n",
       "    <tr style=\"text-align: right;\">\n",
       "      <th></th>\n",
       "      <th>SEX_GROUP</th>\n",
       "      <th>COVID_CASE_RATE</th>\n",
       "      <th>HOSPITALIZED_CASE_RATE</th>\n",
       "      <th>DEATH_RATE</th>\n",
       "    </tr>\n",
       "    <tr>\n",
       "      <th>date</th>\n",
       "      <th></th>\n",
       "      <th></th>\n",
       "      <th></th>\n",
       "      <th></th>\n",
       "    </tr>\n",
       "  </thead>\n",
       "  <tbody>\n",
       "    <tr>\n",
       "      <th>2020-04-08</th>\n",
       "      <td>Male</td>\n",
       "      <td>1079.41</td>\n",
       "      <td>302.75</td>\n",
       "      <td>63.08</td>\n",
       "    </tr>\n",
       "    <tr>\n",
       "      <th>2020-04-08</th>\n",
       "      <td>Citywide total</td>\n",
       "      <td>954.95</td>\n",
       "      <td>243.77</td>\n",
       "      <td>50.72</td>\n",
       "    </tr>\n",
       "    <tr>\n",
       "      <th>2020-04-09</th>\n",
       "      <td>Male</td>\n",
       "      <td>1178.07</td>\n",
       "      <td>318.75</td>\n",
       "      <td>71.09</td>\n",
       "    </tr>\n",
       "    <tr>\n",
       "      <th>2020-04-09</th>\n",
       "      <td>Female</td>\n",
       "      <td>913.66</td>\n",
       "      <td>196.19</td>\n",
       "      <td>39.25</td>\n",
       "    </tr>\n",
       "    <tr>\n",
       "      <th>2020-04-09</th>\n",
       "      <td>Citywide total</td>\n",
       "      <td>1044.50</td>\n",
       "      <td>256.84</td>\n",
       "      <td>56.89</td>\n",
       "    </tr>\n",
       "  </tbody>\n",
       "</table>\n",
       "</div>"
      ],
      "text/plain": [
       "                 SEX_GROUP  COVID_CASE_RATE  HOSPITALIZED_CASE_RATE  \\\n",
       "date                                                                  \n",
       "2020-04-08            Male          1079.41                  302.75   \n",
       "2020-04-08  Citywide total           954.95                  243.77   \n",
       "2020-04-09            Male          1178.07                  318.75   \n",
       "2020-04-09          Female           913.66                  196.19   \n",
       "2020-04-09  Citywide total          1044.50                  256.84   \n",
       "\n",
       "            DEATH_RATE  \n",
       "date                    \n",
       "2020-04-08       63.08  \n",
       "2020-04-08       50.72  \n",
       "2020-04-09       71.09  \n",
       "2020-04-09       39.25  \n",
       "2020-04-09       56.89  "
      ]
     },
     "execution_count": 25,
     "metadata": {},
     "output_type": "execute_result"
    }
   ],
   "source": [
    "sex = pd.read_csv(f'master_sex_{new_date}.csv')\n",
    "sex['date'] = pd.to_datetime(sex['date'])\n",
    "sex.set_index(['date'], inplace = True)\n",
    "sex = sex.sort_values(by = 'date')\n",
    "sex.tail()"
   ]
  },
  {
   "cell_type": "markdown",
   "metadata": {},
   "source": [
    "# EDA"
   ]
  },
  {
   "cell_type": "code",
   "execution_count": 26,
   "metadata": {},
   "outputs": [
    {
     "data": {
      "text/plain": [
       "Text(0, 0.5, 'Case Rate')"
      ]
     },
     "execution_count": 26,
     "metadata": {},
     "output_type": "execute_result"
    },
    {
     "data": {
      "image/png": "[encoded data removed]",
      "text/plain": [
       "<Figure size 576x432 with 1 Axes>"
      ]
     },
     "metadata": {
      "needs_background": "light"
     },
     "output_type": "display_data"
    }
   ],
   "source": [
    "plt.figure(figsize=(8, 6))\n",
    "sex.groupby('SEX_GROUP')['COVID_CASE_RATE'].mean().plot(kind = 'barh' )\n",
    "plt.title('COVID Case Rates by Sex', fontsize = 20)\n",
    "plt.xlabel('Sex', fontsize = 15)\n",
    "plt.ylabel('Case Rate', fontsize = 15)"
   ]
  },
  {
   "cell_type": "code",
   "execution_count": 27,
   "metadata": {},
   "outputs": [
    {
     "data": {
      "text/plain": [
       "<matplotlib.axes._subplots.AxesSubplot at 0x1a1f85dfd0>"
      ]
     },
     "execution_count": 27,
     "metadata": {},
     "output_type": "execute_result"
    },
    {
     "data": {
      "image/png": "[encoded data removed]",
      "text/plain": [
       "<Figure size 576x432 with 1 Axes>"
      ]
     },
     "metadata": {
      "needs_background": "light"
     },
     "output_type": "display_data"
    }
   ],
   "source": [
    "plt.figure(figsize=(8, 6))\n",
    "sex.loc[(sex['SEX_GROUP'] == 'Male'),'COVID_CASE_RATE'].plot()\n",
    "sex.loc[(sex['SEX_GROUP'] == 'Female'), 'COVID_CASE_RATE'].plot()"
   ]
  },
  {
   "cell_type": "code",
   "execution_count": 28,
   "metadata": {},
   "outputs": [
    {
     "data": {
      "text/plain": [
       "<matplotlib.axes._subplots.AxesSubplot at 0x1a1f9cff90>"
      ]
     },
     "execution_count": 28,
     "metadata": {},
     "output_type": "execute_result"
    },
    {
     "data": {
      "image/png": "[encoded data removed]",
      "text/plain": [
       "<Figure size 576x432 with 1 Axes>"
      ]
     },
     "metadata": {
      "needs_background": "light"
     },
     "output_type": "display_data"
    }
   ],
   "source": [
    "plt.figure(figsize=(8, 6))\n",
    "sex.loc[(sex['SEX_GROUP'] == 'Male'),'HOSPITALIZED_CASE_RATE'].plot()\n",
    "sex.loc[(sex['SEX_GROUP'] == 'Female'), 'HOSPITALIZED_CASE_RATE'].plot()"
   ]
  },
  {
   "cell_type": "code",
   "execution_count": null,
   "metadata": {},
   "outputs": [],
   "source": []
  },
  {
   "cell_type": "code",
   "execution_count": 29,
   "metadata": {},
   "outputs": [
    {
     "data": {
      "text/plain": [
       "<matplotlib.axes._subplots.AxesSubplot at 0x1a1fb0c610>"
      ]
     },
     "execution_count": 29,
     "metadata": {},
     "output_type": "execute_result"
    },
    {
     "data": {
      "image/png": "[encoded data removed]",
      "text/plain": [
       "<Figure size 432x288 with 1 Axes>"
      ]
     },
     "metadata": {
      "needs_background": "light"
     },
     "output_type": "display_data"
    }
   ],
   "source": [
    "sex.loc[(sex['SEX_GROUP'] == 'Male'),'DEATH_RATE'].plot()\n",
    "sex.loc[(sex['SEX_GROUP'] == 'Female'), 'DEATH_RATE'].plot()"
   ]
  },
  {
   "cell_type": "code",
   "execution_count": 30,
   "metadata": {},
   "outputs": [
    {
     "data": {
      "text/plain": [
       "<matplotlib.axes._subplots.AxesSubplot at 0x1a1fc2be90>"
      ]
     },
     "execution_count": 30,
     "metadata": {},
     "output_type": "execute_result"
    },
    {
     "data": {
      "text/plain": [
       "<Figure size 576x432 with 0 Axes>"
      ]
     },
     "metadata": {},
     "output_type": "display_data"
    },
    {
     "data": {
      "image/png": "[encoded data removed]",
      "text/plain": [
       "<Figure size 432x288 with 1 Axes>"
      ]
     },
     "metadata": {
      "needs_background": "light"
     },
     "output_type": "display_data"
    }
   ],
   "source": [
    "plt.figure(figsize=(8, 6))\n",
    "age.groupby('AGE_GROUP').mean().plot(kind = 'barh')"
   ]
  },
  {
   "cell_type": "code",
   "execution_count": 31,
   "metadata": {},
   "outputs": [
    {
     "data": {
      "text/plain": [
       "<matplotlib.axes._subplots.AxesSubplot at 0x1a1fc22090>"
      ]
     },
     "execution_count": 31,
     "metadata": {},
     "output_type": "execute_result"
    },
    {
     "data": {
      "text/plain": [
       "<Figure size 576x432 with 0 Axes>"
      ]
     },
     "metadata": {},
     "output_type": "display_data"
    },
    {
     "data": {
      "image/png": "[encoded data removed]",
      "text/plain": [
       "<Figure size 432x288 with 1 Axes>"
      ]
     },
     "metadata": {
      "needs_background": "light"
     },
     "output_type": "display_data"
    }
   ],
   "source": [
    "plt.figure(figsize=(8, 6))\n",
    "age[age['AGE_GROUP'] == '75 and older years'].plot()"
   ]
  },
  {
   "cell_type": "code",
   "execution_count": 32,
   "metadata": {},
   "outputs": [
    {
     "data": {
      "text/plain": [
       "<matplotlib.axes._subplots.AxesSubplot at 0x1a1f84e8d0>"
      ]
     },
     "execution_count": 32,
     "metadata": {},
     "output_type": "execute_result"
    },
    {
     "data": {
      "image/png": "[encoded data removed]",
      "text/plain": [
       "<Figure size 432x288 with 1 Axes>"
      ]
     },
     "metadata": {
      "needs_background": "light"
     },
     "output_type": "display_data"
    }
   ],
   "source": [
    "\n",
    "age[age['AGE_GROUP'] == '18-44 years'].plot()"
   ]
  },
  {
   "cell_type": "code",
   "execution_count": 33,
   "metadata": {},
   "outputs": [
    {
     "data": {
      "text/plain": [
       "<matplotlib.axes._subplots.AxesSubplot at 0x1a1ff14ad0>"
      ]
     },
     "execution_count": 33,
     "metadata": {},
     "output_type": "execute_result"
    },
    {
     "data": {
      "text/plain": [
       "<Figure size 864x432 with 0 Axes>"
      ]
     },
     "metadata": {},
     "output_type": "display_data"
    },
    {
     "data": {
      "image/png": "[encoded data removed]",
      "text/plain": [
       "<Figure size 432x288 with 1 Axes>"
      ]
     },
     "metadata": {
      "needs_background": "light"
     },
     "output_type": "display_data"
    }
   ],
   "source": [
    "plt.figure(figsize=(12, 6))\n",
    "summary.plot(kind = 'barh')"
   ]
  },
  {
   "cell_type": "code",
   "execution_count": 34,
   "metadata": {},
   "outputs": [
    {
     "data": {
      "text/html": [
       "<div>\n",
       "<style scoped>\n",
       "    .dataframe tbody tr th:only-of-type {\n",
       "        vertical-align: middle;\n",
       "    }\n",
       "\n",
       "    .dataframe tbody tr th {\n",
       "        vertical-align: top;\n",
       "    }\n",
       "\n",
       "    .dataframe thead th {\n",
       "        text-align: right;\n",
       "    }\n",
       "</style>\n",
       "<table border=\"1\" class=\"dataframe\">\n",
       "  <thead>\n",
       "    <tr style=\"text-align: right;\">\n",
       "      <th></th>\n",
       "      <th>Total hospitalized*:</th>\n",
       "      <th>Deaths:</th>\n",
       "      <th>Cases</th>\n",
       "    </tr>\n",
       "    <tr>\n",
       "      <th>dates</th>\n",
       "      <th></th>\n",
       "      <th></th>\n",
       "      <th></th>\n",
       "    </tr>\n",
       "  </thead>\n",
       "  <tbody>\n",
       "    <tr>\n",
       "      <th>2020-03-26</th>\n",
       "      <td>NaN</td>\n",
       "      <td>NaN</td>\n",
       "      <td>NaN</td>\n",
       "    </tr>\n",
       "    <tr>\n",
       "      <th>2020-03-27</th>\n",
       "      <td>327.0</td>\n",
       "      <td>86.0</td>\n",
       "      <td>3585.0</td>\n",
       "    </tr>\n",
       "    <tr>\n",
       "      <th>2020-03-30</th>\n",
       "      <td>2702.0</td>\n",
       "      <td>464.0</td>\n",
       "      <td>11390.0</td>\n",
       "    </tr>\n",
       "    <tr>\n",
       "      <th>2020-03-31</th>\n",
       "      <td>808.0</td>\n",
       "      <td>182.0</td>\n",
       "      <td>3684.0</td>\n",
       "    </tr>\n",
       "    <tr>\n",
       "      <th>2020-04-01</th>\n",
       "      <td>1226.0</td>\n",
       "      <td>278.0</td>\n",
       "      <td>3936.0</td>\n",
       "    </tr>\n",
       "    <tr>\n",
       "      <th>2020-04-02</th>\n",
       "      <td>815.0</td>\n",
       "      <td>188.0</td>\n",
       "      <td>4000.0</td>\n",
       "    </tr>\n",
       "    <tr>\n",
       "      <th>2020-04-03</th>\n",
       "      <td>1149.0</td>\n",
       "      <td>305.0</td>\n",
       "      <td>6582.0</td>\n",
       "    </tr>\n",
       "    <tr>\n",
       "      <th>2020-04-05</th>\n",
       "      <td>2466.0</td>\n",
       "      <td>605.0</td>\n",
       "      <td>8666.0</td>\n",
       "    </tr>\n",
       "    <tr>\n",
       "      <th>2020-04-06</th>\n",
       "      <td>1128.0</td>\n",
       "      <td>266.0</td>\n",
       "      <td>3821.0</td>\n",
       "    </tr>\n",
       "    <tr>\n",
       "      <th>2020-04-07</th>\n",
       "      <td>3844.0</td>\n",
       "      <td>806.0</td>\n",
       "      <td>5825.0</td>\n",
       "    </tr>\n",
       "    <tr>\n",
       "      <th>2020-04-08</th>\n",
       "      <td>1297.0</td>\n",
       "      <td>716.0</td>\n",
       "      <td>5603.0</td>\n",
       "    </tr>\n",
       "    <tr>\n",
       "      <th>2020-04-09</th>\n",
       "      <td>1097.0</td>\n",
       "      <td>518.0</td>\n",
       "      <td>7521.0</td>\n",
       "    </tr>\n",
       "  </tbody>\n",
       "</table>\n",
       "</div>"
      ],
      "text/plain": [
       "            Total hospitalized*:  Deaths:    Cases\n",
       "dates                                             \n",
       "2020-03-26                   NaN      NaN      NaN\n",
       "2020-03-27                 327.0     86.0   3585.0\n",
       "2020-03-30                2702.0    464.0  11390.0\n",
       "2020-03-31                 808.0    182.0   3684.0\n",
       "2020-04-01                1226.0    278.0   3936.0\n",
       "2020-04-02                 815.0    188.0   4000.0\n",
       "2020-04-03                1149.0    305.0   6582.0\n",
       "2020-04-05                2466.0    605.0   8666.0\n",
       "2020-04-06                1128.0    266.0   3821.0\n",
       "2020-04-07                3844.0    806.0   5825.0\n",
       "2020-04-08                1297.0    716.0   5603.0\n",
       "2020-04-09                1097.0    518.0   7521.0"
      ]
     },
     "execution_count": 34,
     "metadata": {},
     "output_type": "execute_result"
    }
   ],
   "source": [
    "summary.diff(1)"
   ]
  },
  {
   "cell_type": "code",
   "execution_count": 35,
   "metadata": {},
   "outputs": [
    {
     "data": {
      "text/html": [
       "<div>\n",
       "<style scoped>\n",
       "    .dataframe tbody tr th:only-of-type {\n",
       "        vertical-align: middle;\n",
       "    }\n",
       "\n",
       "    .dataframe tbody tr th {\n",
       "        vertical-align: top;\n",
       "    }\n",
       "\n",
       "    .dataframe thead th {\n",
       "        text-align: right;\n",
       "    }\n",
       "</style>\n",
       "<table border=\"1\" class=\"dataframe\">\n",
       "  <thead>\n",
       "    <tr style=\"text-align: right;\">\n",
       "      <th></th>\n",
       "      <th>Total hospitalized*:</th>\n",
       "      <th>Deaths:</th>\n",
       "      <th>Cases</th>\n",
       "    </tr>\n",
       "    <tr>\n",
       "      <th>dates</th>\n",
       "      <th></th>\n",
       "      <th></th>\n",
       "      <th></th>\n",
       "    </tr>\n",
       "  </thead>\n",
       "  <tbody>\n",
       "    <tr>\n",
       "      <th>2020-03-27</th>\n",
       "      <td>327.0</td>\n",
       "      <td>86.0</td>\n",
       "      <td>3585.0</td>\n",
       "    </tr>\n",
       "    <tr>\n",
       "      <th>2020-03-30</th>\n",
       "      <td>2702.0</td>\n",
       "      <td>464.0</td>\n",
       "      <td>11390.0</td>\n",
       "    </tr>\n",
       "    <tr>\n",
       "      <th>2020-03-31</th>\n",
       "      <td>808.0</td>\n",
       "      <td>182.0</td>\n",
       "      <td>3684.0</td>\n",
       "    </tr>\n",
       "    <tr>\n",
       "      <th>2020-04-01</th>\n",
       "      <td>1226.0</td>\n",
       "      <td>278.0</td>\n",
       "      <td>3936.0</td>\n",
       "    </tr>\n",
       "    <tr>\n",
       "      <th>2020-04-02</th>\n",
       "      <td>815.0</td>\n",
       "      <td>188.0</td>\n",
       "      <td>4000.0</td>\n",
       "    </tr>\n",
       "    <tr>\n",
       "      <th>2020-04-03</th>\n",
       "      <td>1149.0</td>\n",
       "      <td>305.0</td>\n",
       "      <td>6582.0</td>\n",
       "    </tr>\n",
       "    <tr>\n",
       "      <th>2020-04-05</th>\n",
       "      <td>2466.0</td>\n",
       "      <td>605.0</td>\n",
       "      <td>8666.0</td>\n",
       "    </tr>\n",
       "    <tr>\n",
       "      <th>2020-04-06</th>\n",
       "      <td>1128.0</td>\n",
       "      <td>266.0</td>\n",
       "      <td>3821.0</td>\n",
       "    </tr>\n",
       "    <tr>\n",
       "      <th>2020-04-07</th>\n",
       "      <td>3844.0</td>\n",
       "      <td>806.0</td>\n",
       "      <td>5825.0</td>\n",
       "    </tr>\n",
       "    <tr>\n",
       "      <th>2020-04-08</th>\n",
       "      <td>1297.0</td>\n",
       "      <td>716.0</td>\n",
       "      <td>5603.0</td>\n",
       "    </tr>\n",
       "    <tr>\n",
       "      <th>2020-04-09</th>\n",
       "      <td>1097.0</td>\n",
       "      <td>518.0</td>\n",
       "      <td>7521.0</td>\n",
       "    </tr>\n",
       "  </tbody>\n",
       "</table>\n",
       "</div>"
      ],
      "text/plain": [
       "            Total hospitalized*:  Deaths:    Cases\n",
       "dates                                             \n",
       "2020-03-27                 327.0     86.0   3585.0\n",
       "2020-03-30                2702.0    464.0  11390.0\n",
       "2020-03-31                 808.0    182.0   3684.0\n",
       "2020-04-01                1226.0    278.0   3936.0\n",
       "2020-04-02                 815.0    188.0   4000.0\n",
       "2020-04-03                1149.0    305.0   6582.0\n",
       "2020-04-05                2466.0    605.0   8666.0\n",
       "2020-04-06                1128.0    266.0   3821.0\n",
       "2020-04-07                3844.0    806.0   5825.0\n",
       "2020-04-08                1297.0    716.0   5603.0\n",
       "2020-04-09                1097.0    518.0   7521.0"
      ]
     },
     "execution_count": 35,
     "metadata": {},
     "output_type": "execute_result"
    }
   ],
   "source": [
    "summary_diff1 = summary.diff(1).dropna()\n",
    "summary_diff1"
   ]
  },
  {
   "cell_type": "code",
   "execution_count": 36,
   "metadata": {},
   "outputs": [
    {
     "data": {
      "text/plain": [
       "<matplotlib.axes._subplots.AxesSubplot at 0x1a20054690>"
      ]
     },
     "execution_count": 36,
     "metadata": {},
     "output_type": "execute_result"
    },
    {
     "data": {
      "image/png": "[encoded data removed]",
      "text/plain": [
       "<Figure size 720x432 with 1 Axes>"
      ]
     },
     "metadata": {
      "needs_background": "light"
     },
     "output_type": "display_data"
    }
   ],
   "source": [
    "plt.figure(figsize = (10,6))\n",
    "summary_diff1['Deaths:'].plot()"
   ]
  },
  {
   "cell_type": "code",
   "execution_count": 37,
   "metadata": {},
   "outputs": [],
   "source": [
    "case['rolling_week_NCCC'] = case['NEW_COVID_CASE_COUNT'].rolling(7).mean()"
   ]
  },
  {
   "cell_type": "code",
   "execution_count": 38,
   "metadata": {},
   "outputs": [],
   "source": [
    "case['NCCC_diff1'] = case['NEW_COVID_CASE_COUNT'].diff(1)"
   ]
  },
  {
   "cell_type": "code",
   "execution_count": 39,
   "metadata": {},
   "outputs": [
    {
     "data": {
      "text/html": [
       "<div>\n",
       "<style scoped>\n",
       "    .dataframe tbody tr th:only-of-type {\n",
       "        vertical-align: middle;\n",
       "    }\n",
       "\n",
       "    .dataframe tbody tr th {\n",
       "        vertical-align: top;\n",
       "    }\n",
       "\n",
       "    .dataframe thead th {\n",
       "        text-align: right;\n",
       "    }\n",
       "</style>\n",
       "<table border=\"1\" class=\"dataframe\">\n",
       "  <thead>\n",
       "    <tr style=\"text-align: right;\">\n",
       "      <th></th>\n",
       "      <th>NEW_COVID_CASE_COUNT</th>\n",
       "      <th>HOSPITALIZED_CASE_COUNT</th>\n",
       "      <th>DEATH_COUNT</th>\n",
       "      <th>rolling_week_NCCC</th>\n",
       "      <th>NCCC_diff1</th>\n",
       "    </tr>\n",
       "    <tr>\n",
       "      <th>DATE_OF_INTEREST</th>\n",
       "      <th></th>\n",
       "      <th></th>\n",
       "      <th></th>\n",
       "      <th></th>\n",
       "      <th></th>\n",
       "    </tr>\n",
       "  </thead>\n",
       "  <tbody>\n",
       "    <tr>\n",
       "      <th>2020-03-02</th>\n",
       "      <td>1</td>\n",
       "      <td>11.0</td>\n",
       "      <td>NaN</td>\n",
       "      <td>NaN</td>\n",
       "      <td>NaN</td>\n",
       "    </tr>\n",
       "    <tr>\n",
       "      <th>2020-03-03</th>\n",
       "      <td>3</td>\n",
       "      <td>8.0</td>\n",
       "      <td>NaN</td>\n",
       "      <td>NaN</td>\n",
       "      <td>2.0</td>\n",
       "    </tr>\n",
       "    <tr>\n",
       "      <th>2020-03-04</th>\n",
       "      <td>10</td>\n",
       "      <td>9.0</td>\n",
       "      <td>NaN</td>\n",
       "      <td>NaN</td>\n",
       "      <td>7.0</td>\n",
       "    </tr>\n",
       "    <tr>\n",
       "      <th>2020-03-05</th>\n",
       "      <td>2</td>\n",
       "      <td>13.0</td>\n",
       "      <td>NaN</td>\n",
       "      <td>NaN</td>\n",
       "      <td>-8.0</td>\n",
       "    </tr>\n",
       "    <tr>\n",
       "      <th>2020-03-06</th>\n",
       "      <td>8</td>\n",
       "      <td>10.0</td>\n",
       "      <td>NaN</td>\n",
       "      <td>NaN</td>\n",
       "      <td>6.0</td>\n",
       "    </tr>\n",
       "  </tbody>\n",
       "</table>\n",
       "</div>"
      ],
      "text/plain": [
       "                  NEW_COVID_CASE_COUNT  HOSPITALIZED_CASE_COUNT  DEATH_COUNT  \\\n",
       "DATE_OF_INTEREST                                                               \n",
       "2020-03-02                           1                     11.0          NaN   \n",
       "2020-03-03                           3                      8.0          NaN   \n",
       "2020-03-04                          10                      9.0          NaN   \n",
       "2020-03-05                           2                     13.0          NaN   \n",
       "2020-03-06                           8                     10.0          NaN   \n",
       "\n",
       "                  rolling_week_NCCC  NCCC_diff1  \n",
       "DATE_OF_INTEREST                                 \n",
       "2020-03-02                      NaN         NaN  \n",
       "2020-03-03                      NaN         2.0  \n",
       "2020-03-04                      NaN         7.0  \n",
       "2020-03-05                      NaN        -8.0  \n",
       "2020-03-06                      NaN         6.0  "
      ]
     },
     "execution_count": 39,
     "metadata": {},
     "output_type": "execute_result"
    }
   ],
   "source": [
    "case.head()"
   ]
  },
  {
   "cell_type": "code",
   "execution_count": null,
   "metadata": {},
   "outputs": [],
   "source": []
  }
 ],
 "metadata": {
  "kernelspec": {
   "display_name": "Python [conda env:dsi] *",
   "language": "python",
   "name": "conda-env-dsi-py"
  },
  "language_info": {
   "codemirror_mode": {
    "name": "ipython",
    "version": 3
   },
   "file_extension": ".py",
   "mimetype": "text/x-python",
   "name": "python",
   "nbconvert_exporter": "python",
   "pygments_lexer": "ipython3",
   "version": "3.7.5"
  },
  "toc": {
   "base_numbering": 1,
   "nav_menu": {},
   "number_sections": true,
   "sideBar": true,
   "skip_h1_title": false,
   "title_cell": "Table of Contents",
   "title_sidebar": "Contents",
   "toc_cell": false,
   "toc_position": {
    "height": "calc(100% - 180px)",
    "left": "10px",
    "top": "150px",
    "width": "258.391px"
   },
   "toc_section_display": true,
   "toc_window_display": false
  }
 },
 "nbformat": 4,
 "nbformat_minor": 2
}
