{
 "cells": [
  {
   "cell_type": "markdown",
   "metadata": {},
   "source": [
    "# NYC Covid-19 Analysis"
   ]
  },
  {
   "cell_type": "markdown",
   "metadata": {},
   "source": [
    "Thanks to the NYC Department of Health and Mental Hygine, daily COVID-19 data on testings, areas being tested, age, sex, etc. have been made available for people to see. Toady, I will just be trying to look at some initial analysis on whats been happening throughout the New York Area. Show any trends throughout daily information as well as any hotspots in the area. "
   ]
  },
  {
   "cell_type": "markdown",
   "metadata": {},
   "source": [
    "## Data Sets Provided"
   ]
  },
  {
   "cell_type": "markdown",
   "metadata": {},
   "source": [
    "Daily updates are provided for the data at https://github.com/nychealth/coronavirus-data"
   ]
  },
  {
   "cell_type": "markdown",
   "metadata": {},
   "source": [
    "# Import "
   ]
  },
  {
   "cell_type": "code",
   "execution_count": 47,
   "metadata": {},
   "outputs": [],
   "source": [
    "import pandas as pd\n",
    "import numpy as np\n",
    "import matplotlib.pyplot as plt\n",
    "import seaborn as sns\n",
    "\n",
    "%matplotlib inline"
   ]
  },
  {
   "cell_type": "markdown",
   "metadata": {},
   "source": [
    "# Cleaning and Merging "
   ]
  },
  {
   "cell_type": "markdown",
   "metadata": {},
   "source": [
    "We first scrapped data on the NYC boroughs and all zipcodes within them from:\n",
    "https://www.health.ny.gov/statistics/cancer/registry/appendix/neighborhoods.htm \n",
    "\n",
    "Mannual cleaning in excel was peformed to list each zipcode with its borough."
   ]
  },
  {
   "cell_type": "code",
   "execution_count": 48,
   "metadata": {},
   "outputs": [],
   "source": [
    "bz = pd.read_csv('Bourgh_zipcodes.csv')"
   ]
  },
  {
   "cell_type": "code",
   "execution_count": 49,
   "metadata": {},
   "outputs": [
    {
     "data": {
      "text/html": [
       "<div>\n",
       "<style scoped>\n",
       "    .dataframe tbody tr th:only-of-type {\n",
       "        vertical-align: middle;\n",
       "    }\n",
       "\n",
       "    .dataframe tbody tr th {\n",
       "        vertical-align: top;\n",
       "    }\n",
       "\n",
       "    .dataframe thead th {\n",
       "        text-align: right;\n",
       "    }\n",
       "</style>\n",
       "<table border=\"1\" class=\"dataframe\">\n",
       "  <thead>\n",
       "    <tr style=\"text-align: right;\">\n",
       "      <th></th>\n",
       "      <th>Borough</th>\n",
       "      <th>ZIP Codes</th>\n",
       "    </tr>\n",
       "  </thead>\n",
       "  <tbody>\n",
       "    <tr>\n",
       "      <th>0</th>\n",
       "      <td>Bronx</td>\n",
       "      <td>10453, 10457, 10460, 10458, 10467, 10468, 1045...</td>\n",
       "    </tr>\n",
       "    <tr>\n",
       "      <th>1</th>\n",
       "      <td>Brooklyn</td>\n",
       "      <td>11212, 11213, 11216, 11233, 11238, 11209, 1121...</td>\n",
       "    </tr>\n",
       "    <tr>\n",
       "      <th>2</th>\n",
       "      <td>Manhattan</td>\n",
       "      <td>10026, 10027, 10030, 10037, 10039, 10001, 1001...</td>\n",
       "    </tr>\n",
       "    <tr>\n",
       "      <th>3</th>\n",
       "      <td>Queens</td>\n",
       "      <td>11361, 11362, 11363, 11364, 11354, 11355, 1135...</td>\n",
       "    </tr>\n",
       "    <tr>\n",
       "      <th>4</th>\n",
       "      <td>Staten Island</td>\n",
       "      <td>10302, 10303, 10310, 10306, 10307, 10308, 1030...</td>\n",
       "    </tr>\n",
       "  </tbody>\n",
       "</table>\n",
       "</div>"
      ],
      "text/plain": [
       "         Borough                                          ZIP Codes\n",
       "0          Bronx  10453, 10457, 10460, 10458, 10467, 10468, 1045...\n",
       "1       Brooklyn  11212, 11213, 11216, 11233, 11238, 11209, 1121...\n",
       "2      Manhattan  10026, 10027, 10030, 10037, 10039, 10001, 1001...\n",
       "3         Queens  11361, 11362, 11363, 11364, 11354, 11355, 1135...\n",
       "4  Staten Island  10302, 10303, 10310, 10306, 10307, 10308, 1030..."
      ]
     },
     "execution_count": 49,
     "metadata": {},
     "output_type": "execute_result"
    }
   ],
   "source": [
    "bz.head()"
   ]
  },
  {
   "cell_type": "code",
   "execution_count": 50,
   "metadata": {},
   "outputs": [],
   "source": [
    "zips = [bz['ZIP Codes'][i].strip().split(',') for i in range(0,5)]"
   ]
  },
  {
   "cell_type": "code",
   "execution_count": 51,
   "metadata": {},
   "outputs": [],
   "source": [
    "bronx = pd.DataFrame({'BOROUGH': 'Bronx', 'zip_codes':zips[0]})"
   ]
  },
  {
   "cell_type": "code",
   "execution_count": 52,
   "metadata": {},
   "outputs": [],
   "source": [
    "brook = pd.DataFrame({'BOROUGH': 'Brooklyn', 'zip_codes':zips[1]})"
   ]
  },
  {
   "cell_type": "code",
   "execution_count": 53,
   "metadata": {},
   "outputs": [],
   "source": [
    "manhattan = pd.DataFrame({'BOROUGH': 'Manhattan', 'zip_codes':zips[2]})"
   ]
  },
  {
   "cell_type": "code",
   "execution_count": 54,
   "metadata": {},
   "outputs": [],
   "source": [
    "queens = pd.DataFrame({'BOROUGH': 'Queens', 'zip_codes':zips[3]})"
   ]
  },
  {
   "cell_type": "code",
   "execution_count": 55,
   "metadata": {},
   "outputs": [],
   "source": [
    "si = pd.DataFrame({'BOROUGH': 'Staten Island', 'zip_codes':zips[4]})"
   ]
  },
  {
   "cell_type": "code",
   "execution_count": 56,
   "metadata": {},
   "outputs": [],
   "source": [
    "borough_zips = pd.concat([bronx, brook, manhattan, queens, si])"
   ]
  },
  {
   "cell_type": "code",
   "execution_count": 57,
   "metadata": {},
   "outputs": [],
   "source": [
    "borough_zips['zip_codes'] = borough_zips['zip_codes'].astype('int64')"
   ]
  },
  {
   "cell_type": "markdown",
   "metadata": {},
   "source": [
    "Since information is made daily for us, these functions created below will update our csv's so that we will have the latest data made availble for our visualizations. "
   ]
  },
  {
   "cell_type": "code",
   "execution_count": 58,
   "metadata": {},
   "outputs": [],
   "source": [
    "old_date = '4:11'\n",
    "new_date = '4:12'"
   ]
  },
  {
   "cell_type": "code",
   "execution_count": 59,
   "metadata": {},
   "outputs": [],
   "source": [
    "#Function for updating positive test by Borough and Zipcode\n",
    "def update_testing (new_date):\n",
    "    test_zip = pd.read_csv(f'coronavirus-data {new_date}/tests-by-zcta.csv')\n",
    "    test_zip.drop(0, inplace = True)\n",
    "    test_zip['MODZCTA'] = test_zip['MODZCTA'].astype('int64')\n",
    "    test_zip.rename(columns = {'MODZCTA': 'zip_codes'}, inplace = True)\n",
    "    testing = pd.merge(left = borough_zips,\n",
    "        right = test_zip,\n",
    "        how = 'inner',\n",
    "        on = 'zip_codes')\n",
    "    boro = pd.read_csv(f'coronavirus-data {new_date}/boro.csv')\n",
    "    boro.drop(5,inplace = True)\n",
    "    boro.loc[:, 'BOROUGH_GROUP'] = testing['BOROUGH'].unique()\n",
    "    boro.rename(columns = {'BOROUGH_GROUP': 'BOROUGH'}, inplace = True)\n",
    "    testing_borough = pd.merge(left = testing,\n",
    "        right = boro,\n",
    "        how = 'inner',\n",
    "        on = 'BOROUGH')\n",
    "    return testing_borough.to_csv('master_tests.csv',index = False)"
   ]
  },
  {
   "cell_type": "code",
   "execution_count": 60,
   "metadata": {},
   "outputs": [],
   "source": [
    "update_testing(new_date)"
   ]
  },
  {
   "cell_type": "code",
   "execution_count": 61,
   "metadata": {},
   "outputs": [],
   "source": [
    "#Function for updating Summary\n",
    "def update_summary (old_date,new_date): #remember in 4:2 format for april 2nd()\n",
    "    old_sum = pd.read_csv(f'master_summary_{old_date}.csv')#.T #- remove # before t if needed to update\n",
    "    #incase file is overwritten, rewrite using the following code \n",
    "    #old_sum.columns = old_sum.iloc[0]\n",
    "    #old_sum.drop('Cases:', inplace = True)\n",
    "    #old_sum['Cases'] = old_sum.index\n",
    "    #old_sum['As of:'] = pd.to_datetime(old_sum['As of:'])\n",
    "\n",
    "    new_sum = pd.read_csv(f'coronavirus-data {new_date}/summary.csv').T\n",
    "    new_sum.columns = new_sum.iloc[0]\n",
    "    new_sum.drop('Cases:', inplace = True)\n",
    "    new_sum['Cases'] = new_sum.index\n",
    "    new_sum['As of:'] = pd.to_datetime(new_sum['As of:'])\n",
    "    \n",
    "    merged = pd.concat([old_sum,new_sum])\n",
    "    merged.reset_index(inplace = True)\n",
    "    merged.drop(columns = 'index', inplace = True)\n",
    "    date = [i.split(' ') for i in summary['As of:']]\n",
    "    merged['dates'] = [date[i][0] for i in range(len(date))]\n",
    "    del merged['As of:']\n",
    "    merged.set_index(['dates'], inplace = True)\n",
    "    merged = merged.sort_values(by = 'dates')\n",
    "    merged.to_csv(f'master_summary_{new_date}.csv', index = False)\n",
    "     \n",
    "    return merged.head()\n"
   ]
  },
  {
   "cell_type": "code",
   "execution_count": 63,
   "metadata": {},
   "outputs": [
    {
     "name": "stderr",
     "output_type": "stream",
     "text": [
      "/opt/anaconda3/envs/dsi/lib/python3.7/site-packages/ipykernel_launcher.py:16: FutureWarning: Sorting because non-concatenation axis is not aligned. A future version\n",
      "of pandas will change to not sort by default.\n",
      "\n",
      "To accept the future behavior, pass 'sort=False'.\n",
      "\n",
      "To retain the current behavior and silence the warning, pass 'sort=True'.\n",
      "\n",
      "  app.launch_new_instance()\n"
     ]
    },
    {
     "data": {
      "text/html": [
       "<div>\n",
       "<style scoped>\n",
       "    .dataframe tbody tr th:only-of-type {\n",
       "        vertical-align: middle;\n",
       "    }\n",
       "\n",
       "    .dataframe tbody tr th {\n",
       "        vertical-align: top;\n",
       "    }\n",
       "\n",
       "    .dataframe thead th {\n",
       "        text-align: right;\n",
       "    }\n",
       "</style>\n",
       "<table border=\"1\" class=\"dataframe\">\n",
       "  <thead>\n",
       "    <tr style=\"text-align: right;\">\n",
       "      <th></th>\n",
       "      <th>As of:</th>\n",
       "      <th>Cases</th>\n",
       "      <th>Deaths:</th>\n",
       "      <th>NYC confirmed deaths:</th>\n",
       "      <th>Total hospitalized*:</th>\n",
       "    </tr>\n",
       "  </thead>\n",
       "  <tbody>\n",
       "    <tr>\n",
       "      <th>0</th>\n",
       "      <td>2020-04-02 17:00:00</td>\n",
       "      <td>49707</td>\n",
       "      <td>1562.0</td>\n",
       "      <td>NaN</td>\n",
       "      <td>10590</td>\n",
       "    </tr>\n",
       "    <tr>\n",
       "      <th>1</th>\n",
       "      <td>2020-04-05 17:00:00</td>\n",
       "      <td>64955</td>\n",
       "      <td>2472.0</td>\n",
       "      <td>NaN</td>\n",
       "      <td>14205</td>\n",
       "    </tr>\n",
       "    <tr>\n",
       "      <th>2</th>\n",
       "      <td>2020-04-06 17:00:00</td>\n",
       "      <td>68776</td>\n",
       "      <td>2738.0</td>\n",
       "      <td>NaN</td>\n",
       "      <td>15333</td>\n",
       "    </tr>\n",
       "    <tr>\n",
       "      <th>3</th>\n",
       "      <td>2020-03-26 17:00:00</td>\n",
       "      <td>23112</td>\n",
       "      <td>364.0</td>\n",
       "      <td>NaN</td>\n",
       "      <td>4712</td>\n",
       "    </tr>\n",
       "    <tr>\n",
       "      <th>4</th>\n",
       "      <td>2020-03-27 17:00:00</td>\n",
       "      <td>26697</td>\n",
       "      <td>450.0</td>\n",
       "      <td>NaN</td>\n",
       "      <td>5039</td>\n",
       "    </tr>\n",
       "  </tbody>\n",
       "</table>\n",
       "</div>"
      ],
      "text/plain": [
       "                As of:  Cases  Deaths: NYC confirmed deaths:  \\\n",
       "0  2020-04-02 17:00:00  49707   1562.0                   NaN   \n",
       "1  2020-04-05 17:00:00  64955   2472.0                   NaN   \n",
       "2  2020-04-06 17:00:00  68776   2738.0                   NaN   \n",
       "3  2020-03-26 17:00:00  23112    364.0                   NaN   \n",
       "4  2020-03-27 17:00:00  26697    450.0                   NaN   \n",
       "\n",
       "  Total hospitalized*:  \n",
       "0                10590  \n",
       "1                14205  \n",
       "2                15333  \n",
       "3                 4712  \n",
       "4                 5039  "
      ]
     },
     "execution_count": 63,
     "metadata": {},
     "output_type": "execute_result"
    }
   ],
   "source": [
    "update_summary(old_date,new_date)"
   ]
  },
  {
   "cell_type": "code",
   "execution_count": 65,
   "metadata": {},
   "outputs": [],
   "source": [
    "#formatting casses by day file\n",
    "case = pd.read_csv(f'coronavirus-data {new_date}/case-hosp-death.csv')\n",
    "case['DATE_OF_INTEREST'] = pd.to_datetime(case['DATE_OF_INTEREST'])\n",
    "case.set_index(['DATE_OF_INTEREST'], inplace = True)"
   ]
  },
  {
   "cell_type": "code",
   "execution_count": 66,
   "metadata": {},
   "outputs": [
    {
     "data": {
      "text/html": [
       "<div>\n",
       "<style scoped>\n",
       "    .dataframe tbody tr th:only-of-type {\n",
       "        vertical-align: middle;\n",
       "    }\n",
       "\n",
       "    .dataframe tbody tr th {\n",
       "        vertical-align: top;\n",
       "    }\n",
       "\n",
       "    .dataframe thead th {\n",
       "        text-align: right;\n",
       "    }\n",
       "</style>\n",
       "<table border=\"1\" class=\"dataframe\">\n",
       "  <thead>\n",
       "    <tr style=\"text-align: right;\">\n",
       "      <th></th>\n",
       "      <th>NEW_COVID_CASE_COUNT</th>\n",
       "      <th>HOSPITALIZED_CASE_COUNT</th>\n",
       "      <th>DEATH_COUNT</th>\n",
       "    </tr>\n",
       "    <tr>\n",
       "      <th>DATE_OF_INTEREST</th>\n",
       "      <th></th>\n",
       "      <th></th>\n",
       "      <th></th>\n",
       "    </tr>\n",
       "  </thead>\n",
       "  <tbody>\n",
       "    <tr>\n",
       "      <th>2020-03-02</th>\n",
       "      <td>1</td>\n",
       "      <td>12.0</td>\n",
       "      <td>NaN</td>\n",
       "    </tr>\n",
       "    <tr>\n",
       "      <th>2020-03-03</th>\n",
       "      <td>3</td>\n",
       "      <td>10.0</td>\n",
       "      <td>NaN</td>\n",
       "    </tr>\n",
       "    <tr>\n",
       "      <th>2020-03-04</th>\n",
       "      <td>10</td>\n",
       "      <td>13.0</td>\n",
       "      <td>NaN</td>\n",
       "    </tr>\n",
       "    <tr>\n",
       "      <th>2020-03-05</th>\n",
       "      <td>2</td>\n",
       "      <td>18.0</td>\n",
       "      <td>NaN</td>\n",
       "    </tr>\n",
       "    <tr>\n",
       "      <th>2020-03-06</th>\n",
       "      <td>8</td>\n",
       "      <td>17.0</td>\n",
       "      <td>NaN</td>\n",
       "    </tr>\n",
       "  </tbody>\n",
       "</table>\n",
       "</div>"
      ],
      "text/plain": [
       "                  NEW_COVID_CASE_COUNT  HOSPITALIZED_CASE_COUNT  DEATH_COUNT\n",
       "DATE_OF_INTEREST                                                            \n",
       "2020-03-02                           1                     12.0          NaN\n",
       "2020-03-03                           3                     10.0          NaN\n",
       "2020-03-04                          10                     13.0          NaN\n",
       "2020-03-05                           2                     18.0          NaN\n",
       "2020-03-06                           8                     17.0          NaN"
      ]
     },
     "execution_count": 66,
     "metadata": {},
     "output_type": "execute_result"
    }
   ],
   "source": [
    "case.head()"
   ]
  },
  {
   "cell_type": "code",
   "execution_count": 67,
   "metadata": {},
   "outputs": [],
   "source": [
    "case['NCCC_diff1'] = case['NEW_COVID_CASE_COUNT'].diff(1)"
   ]
  },
  {
   "cell_type": "markdown",
   "metadata": {},
   "source": [
    "Created new column to show the difference in day to day NEW_COVID_CASE_COUNT"
   ]
  },
  {
   "cell_type": "code",
   "execution_count": 68,
   "metadata": {},
   "outputs": [],
   "source": [
    "case['DC_diff1'] = case['DEATH_COUNT'].diff(1)"
   ]
  },
  {
   "cell_type": "markdown",
   "metadata": {},
   "source": [
    "Created new column to show the difference in day to day DEATH_COUNT"
   ]
  },
  {
   "cell_type": "code",
   "execution_count": 84,
   "metadata": {},
   "outputs": [
    {
     "data": {
      "text/html": [
       "<div>\n",
       "<style scoped>\n",
       "    .dataframe tbody tr th:only-of-type {\n",
       "        vertical-align: middle;\n",
       "    }\n",
       "\n",
       "    .dataframe tbody tr th {\n",
       "        vertical-align: top;\n",
       "    }\n",
       "\n",
       "    .dataframe thead th {\n",
       "        text-align: right;\n",
       "    }\n",
       "</style>\n",
       "<table border=\"1\" class=\"dataframe\">\n",
       "  <thead>\n",
       "    <tr style=\"text-align: right;\">\n",
       "      <th></th>\n",
       "      <th>NEW_COVID_CASE_COUNT</th>\n",
       "      <th>HOSPITALIZED_CASE_COUNT</th>\n",
       "      <th>DEATH_COUNT</th>\n",
       "      <th>NCCC_diff1</th>\n",
       "      <th>DC_diff1</th>\n",
       "      <th>NCCC_diff7</th>\n",
       "    </tr>\n",
       "    <tr>\n",
       "      <th>DATE_OF_INTEREST</th>\n",
       "      <th></th>\n",
       "      <th></th>\n",
       "      <th></th>\n",
       "      <th></th>\n",
       "      <th></th>\n",
       "      <th></th>\n",
       "    </tr>\n",
       "  </thead>\n",
       "  <tbody>\n",
       "    <tr>\n",
       "      <th>2020-03-02</th>\n",
       "      <td>1</td>\n",
       "      <td>12.0</td>\n",
       "      <td>NaN</td>\n",
       "      <td>NaN</td>\n",
       "      <td>NaN</td>\n",
       "      <td>NaN</td>\n",
       "    </tr>\n",
       "    <tr>\n",
       "      <th>2020-03-03</th>\n",
       "      <td>3</td>\n",
       "      <td>10.0</td>\n",
       "      <td>NaN</td>\n",
       "      <td>2.0</td>\n",
       "      <td>NaN</td>\n",
       "      <td>NaN</td>\n",
       "    </tr>\n",
       "    <tr>\n",
       "      <th>2020-03-04</th>\n",
       "      <td>10</td>\n",
       "      <td>13.0</td>\n",
       "      <td>NaN</td>\n",
       "      <td>7.0</td>\n",
       "      <td>NaN</td>\n",
       "      <td>NaN</td>\n",
       "    </tr>\n",
       "    <tr>\n",
       "      <th>2020-03-05</th>\n",
       "      <td>2</td>\n",
       "      <td>18.0</td>\n",
       "      <td>NaN</td>\n",
       "      <td>-8.0</td>\n",
       "      <td>NaN</td>\n",
       "      <td>NaN</td>\n",
       "    </tr>\n",
       "    <tr>\n",
       "      <th>2020-03-06</th>\n",
       "      <td>8</td>\n",
       "      <td>17.0</td>\n",
       "      <td>NaN</td>\n",
       "      <td>6.0</td>\n",
       "      <td>NaN</td>\n",
       "      <td>NaN</td>\n",
       "    </tr>\n",
       "  </tbody>\n",
       "</table>\n",
       "</div>"
      ],
      "text/plain": [
       "                  NEW_COVID_CASE_COUNT  HOSPITALIZED_CASE_COUNT  DEATH_COUNT  \\\n",
       "DATE_OF_INTEREST                                                               \n",
       "2020-03-02                           1                     12.0          NaN   \n",
       "2020-03-03                           3                     10.0          NaN   \n",
       "2020-03-04                          10                     13.0          NaN   \n",
       "2020-03-05                           2                     18.0          NaN   \n",
       "2020-03-06                           8                     17.0          NaN   \n",
       "\n",
       "                  NCCC_diff1  DC_diff1  NCCC_diff7  \n",
       "DATE_OF_INTEREST                                    \n",
       "2020-03-02               NaN       NaN         NaN  \n",
       "2020-03-03               2.0       NaN         NaN  \n",
       "2020-03-04               7.0       NaN         NaN  \n",
       "2020-03-05              -8.0       NaN         NaN  \n",
       "2020-03-06               6.0       NaN         NaN  "
      ]
     },
     "execution_count": 84,
     "metadata": {},
     "output_type": "execute_result"
    }
   ],
   "source": [
    "case.head()"
   ]
  },
  {
   "cell_type": "code",
   "execution_count": 70,
   "metadata": {},
   "outputs": [],
   "source": [
    "case.to_csv(f'coronavirus-data {new_date}/case-hosp-death.csv')"
   ]
  },
  {
   "cell_type": "markdown",
   "metadata": {},
   "source": [
    "Fucntion created to regularly update age with new data daily provided"
   ]
  },
  {
   "cell_type": "code",
   "execution_count": 71,
   "metadata": {},
   "outputs": [],
   "source": [
    "# Fucntion created to regularly update age with new data daily provided\n",
    "def update_age (old_date,new_date):\n",
    "    old_age = pd.read_csv(f'master_age_{old_date}.csv')\n",
    "    #old_age['date'] = f'{old_date[0]}/{old_date[2]}/2020'\n",
    "    #old_age['date'] = pd.to_datetime(old_age['date'])\n",
    "    \n",
    "    new_age = pd.read_csv(f'coronavirus-data {new_date}/by-age.csv')\n",
    "    new_age['date'] = f'{new_date[0]}/{new_date[2] + new_date[3]}/2020'\n",
    "    new_age['date'] = pd.to_datetime(new_age['date'])\n",
    "    \n",
    "    merged = pd.concat([old_age,new_age])\n",
    "    merged.reset_index(inplace = True)\n",
    "    merged.drop(columns = 'index', inplace = True)\n",
    "    merged['date'] = pd.to_datetime(merged['date'])\n",
    "    merged.to_csv(f'master_age_{new_date}.csv', index = False)\n",
    "    \n",
    "    return merged.head()"
   ]
  },
  {
   "cell_type": "code",
   "execution_count": 72,
   "metadata": {},
   "outputs": [
    {
     "data": {
      "text/html": [
       "<div>\n",
       "<style scoped>\n",
       "    .dataframe tbody tr th:only-of-type {\n",
       "        vertical-align: middle;\n",
       "    }\n",
       "\n",
       "    .dataframe tbody tr th {\n",
       "        vertical-align: top;\n",
       "    }\n",
       "\n",
       "    .dataframe thead th {\n",
       "        text-align: right;\n",
       "    }\n",
       "</style>\n",
       "<table border=\"1\" class=\"dataframe\">\n",
       "  <thead>\n",
       "    <tr style=\"text-align: right;\">\n",
       "      <th></th>\n",
       "      <th>AGE_GROUP</th>\n",
       "      <th>COVID_CASE_RATE</th>\n",
       "      <th>HOSPITALIZED_CASE_RATE</th>\n",
       "      <th>DEATH_RATE</th>\n",
       "      <th>date</th>\n",
       "    </tr>\n",
       "  </thead>\n",
       "  <tbody>\n",
       "    <tr>\n",
       "      <th>0</th>\n",
       "      <td>0-17 years</td>\n",
       "      <td>51.02</td>\n",
       "      <td>5.10</td>\n",
       "      <td>0.06</td>\n",
       "      <td>2020-04-02</td>\n",
       "    </tr>\n",
       "    <tr>\n",
       "      <th>1</th>\n",
       "      <td>18-44 years</td>\n",
       "      <td>602.82</td>\n",
       "      <td>53.92</td>\n",
       "      <td>2.67</td>\n",
       "      <td>2020-04-02</td>\n",
       "    </tr>\n",
       "    <tr>\n",
       "      <th>2</th>\n",
       "      <td>45-64 years</td>\n",
       "      <td>851.00</td>\n",
       "      <td>192.70</td>\n",
       "      <td>18.58</td>\n",
       "      <td>2020-04-02</td>\n",
       "    </tr>\n",
       "    <tr>\n",
       "      <th>3</th>\n",
       "      <td>65-74 years</td>\n",
       "      <td>871.81</td>\n",
       "      <td>328.99</td>\n",
       "      <td>53.78</td>\n",
       "      <td>2020-04-02</td>\n",
       "    </tr>\n",
       "    <tr>\n",
       "      <th>4</th>\n",
       "      <td>75 and older years</td>\n",
       "      <td>879.56</td>\n",
       "      <td>442.98</td>\n",
       "      <td>130.35</td>\n",
       "      <td>2020-04-02</td>\n",
       "    </tr>\n",
       "  </tbody>\n",
       "</table>\n",
       "</div>"
      ],
      "text/plain": [
       "            AGE_GROUP  COVID_CASE_RATE  HOSPITALIZED_CASE_RATE  DEATH_RATE  \\\n",
       "0          0-17 years            51.02                    5.10        0.06   \n",
       "1         18-44 years           602.82                   53.92        2.67   \n",
       "2         45-64 years           851.00                  192.70       18.58   \n",
       "3         65-74 years           871.81                  328.99       53.78   \n",
       "4  75 and older years           879.56                  442.98      130.35   \n",
       "\n",
       "        date  \n",
       "0 2020-04-02  \n",
       "1 2020-04-02  \n",
       "2 2020-04-02  \n",
       "3 2020-04-02  \n",
       "4 2020-04-02  "
      ]
     },
     "execution_count": 72,
     "metadata": {},
     "output_type": "execute_result"
    }
   ],
   "source": [
    "update_age(old_date, new_date)"
   ]
  },
  {
   "cell_type": "markdown",
   "metadata": {},
   "source": [
    "Fucntion created to regularly update Gender with new data daily provided"
   ]
  },
  {
   "cell_type": "code",
   "execution_count": 74,
   "metadata": {},
   "outputs": [],
   "source": [
    "def update_gender (old_date,new_date):\n",
    "    old_sex = pd.read_csv(f'master_sex_{old_date}.csv')\n",
    "    #old_sex['date'] = f'{old_date[0]}/{old_date[2]}/2020'\n",
    "    #old_sex['date'] = pd.to_datetime(old_sex['date'])\n",
    "    \n",
    "    new_sex = pd.read_csv(f'coronavirus-data {new_date}/by-sex.csv')\n",
    "    new_sex['date'] = f'{new_date[0]}/{new_date[2] + new_date[3]}/2020'\n",
    "    new_sex['date'] = pd.to_datetime(new_sex['date'])\n",
    "    \n",
    "    merged = pd.concat([old_sex, new_sex])\n",
    "    merged.reset_index(inplace = True)\n",
    "    merged.drop(columns = 'index', inplace = True)\n",
    "    merged['date'] = pd.to_datetime(merged['date'])\n",
    "    merged.to_csv(f'master_sex_{new_date}.csv', index = False)\n",
    "    \n",
    "    return merged.head()"
   ]
  },
  {
   "cell_type": "code",
   "execution_count": 75,
   "metadata": {},
   "outputs": [
    {
     "data": {
      "text/html": [
       "<div>\n",
       "<style scoped>\n",
       "    .dataframe tbody tr th:only-of-type {\n",
       "        vertical-align: middle;\n",
       "    }\n",
       "\n",
       "    .dataframe tbody tr th {\n",
       "        vertical-align: top;\n",
       "    }\n",
       "\n",
       "    .dataframe thead th {\n",
       "        text-align: right;\n",
       "    }\n",
       "</style>\n",
       "<table border=\"1\" class=\"dataframe\">\n",
       "  <thead>\n",
       "    <tr style=\"text-align: right;\">\n",
       "      <th></th>\n",
       "      <th>SEX_GROUP</th>\n",
       "      <th>COVID_CASE_RATE</th>\n",
       "      <th>HOSPITALIZED_CASE_RATE</th>\n",
       "      <th>DEATH_RATE</th>\n",
       "      <th>date</th>\n",
       "    </tr>\n",
       "  </thead>\n",
       "  <tbody>\n",
       "    <tr>\n",
       "      <th>0</th>\n",
       "      <td>Female</td>\n",
       "      <td>511.86</td>\n",
       "      <td>97.71</td>\n",
       "      <td>13.41</td>\n",
       "      <td>2020-04-02</td>\n",
       "    </tr>\n",
       "    <tr>\n",
       "      <th>1</th>\n",
       "      <td>Male</td>\n",
       "      <td>677.86</td>\n",
       "      <td>157.14</td>\n",
       "      <td>24.24</td>\n",
       "      <td>2020-04-02</td>\n",
       "    </tr>\n",
       "    <tr>\n",
       "      <th>2</th>\n",
       "      <td>Citywide total</td>\n",
       "      <td>591.84</td>\n",
       "      <td>126.09</td>\n",
       "      <td>18.60</td>\n",
       "      <td>2020-04-02</td>\n",
       "    </tr>\n",
       "    <tr>\n",
       "      <th>3</th>\n",
       "      <td>Female</td>\n",
       "      <td>673.99</td>\n",
       "      <td>130.08</td>\n",
       "      <td>20.94</td>\n",
       "      <td>2020-04-05</td>\n",
       "    </tr>\n",
       "    <tr>\n",
       "      <th>4</th>\n",
       "      <td>Male</td>\n",
       "      <td>880.09</td>\n",
       "      <td>211.86</td>\n",
       "      <td>38.69</td>\n",
       "      <td>2020-04-05</td>\n",
       "    </tr>\n",
       "  </tbody>\n",
       "</table>\n",
       "</div>"
      ],
      "text/plain": [
       "        SEX_GROUP  COVID_CASE_RATE  HOSPITALIZED_CASE_RATE  DEATH_RATE  \\\n",
       "0          Female           511.86                   97.71       13.41   \n",
       "1            Male           677.86                  157.14       24.24   \n",
       "2  Citywide total           591.84                  126.09       18.60   \n",
       "3          Female           673.99                  130.08       20.94   \n",
       "4            Male           880.09                  211.86       38.69   \n",
       "\n",
       "        date  \n",
       "0 2020-04-02  \n",
       "1 2020-04-02  \n",
       "2 2020-04-02  \n",
       "3 2020-04-05  \n",
       "4 2020-04-05  "
      ]
     },
     "execution_count": 75,
     "metadata": {},
     "output_type": "execute_result"
    }
   ],
   "source": [
    "update_gender(old_date, new_date)"
   ]
  },
  {
   "cell_type": "markdown",
   "metadata": {},
   "source": [
    "All Files are now updated and ready for upload in Tableau"
   ]
  }
 ],
 "metadata": {
  "kernelspec": {
   "display_name": "Python [conda env:dsi] *",
   "language": "python",
   "name": "conda-env-dsi-py"
  },
  "language_info": {
   "codemirror_mode": {
    "name": "ipython",
    "version": 3
   },
   "file_extension": ".py",
   "mimetype": "text/x-python",
   "name": "python",
   "nbconvert_exporter": "python",
   "pygments_lexer": "ipython3",
   "version": "3.7.5"
  },
  "toc": {
   "base_numbering": 1,
   "nav_menu": {},
   "number_sections": true,
   "sideBar": true,
   "skip_h1_title": false,
   "title_cell": "Table of Contents",
   "title_sidebar": "Contents",
   "toc_cell": false,
   "toc_position": {
    "height": "calc(100% - 180px)",
    "left": "10px",
    "top": "150px",
    "width": "258.391px"
   },
   "toc_section_display": true,
   "toc_window_display": false
  }
 },
 "nbformat": 4,
 "nbformat_minor": 2
}
